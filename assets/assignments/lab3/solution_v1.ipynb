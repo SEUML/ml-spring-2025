{
 "cells": [
  {
   "cell_type": "markdown",
   "id": "1e59e827ab48c476",
   "metadata": {
    "id": "1e59e827ab48c476"
   },
   "source": [
    "# Experiment 3: Neural Networks\n",
    "\n",
    "21th April 2024\n",
    "\n",
    "## Description\n",
    "\n",
    "In this experiment, you will implement neural networks on CIFAR-10, and deepen the knowledge and understanding of the networks through multiple tricks.\n",
    "\n",
    "Write your code between the lines `########## Start/End of Your Code ##########`.\n",
    "\n",
    "You should add some comments to keep readability of your code. If your code is not understandable, you will not receive full marks even if your results are correct.\n",
    "\n",
    "You can add some markdown/code cells to explain your code if necessary.\n"
   ]
  },
  {
   "cell_type": "code",
   "execution_count": 2,
   "id": "initial_id",
   "metadata": {
    "ExecuteTime": {
     "end_time": "2024-04-18T08:35:47.302624Z",
     "start_time": "2024-04-18T08:35:42.977857Z"
    },
    "executionInfo": {
     "elapsed": 6331,
     "status": "ok",
     "timestamp": 1713689798428,
     "user": {
      "displayName": "王怡博",
      "userId": "18243970072632574540"
     },
     "user_tz": -480
    },
    "id": "initial_id"
   },
   "outputs": [],
   "source": [
    "# Import necessary libraries\n",
    "# If you have not installed the libraries, you can install them first\n",
    "# You can add more libraries if necessary\n",
    "\n",
    "import torch\n",
    "from torchvision import datasets\n",
    "from torchvision import transforms\n",
    "from torch.utils.data import DataLoader\n",
    "from torch import nn\n",
    "import torch.nn.functional as F\n",
    "from torch import optim\n",
    "from sklearn import metrics\n",
    "from matplotlib import pyplot as plt\n",
    "from tqdm import tqdm\n",
    "from collections import defaultdict\n",
    "import numpy as np\n",
    "\n",
    "# set seed\n",
    "torch.manual_seed(42)\n",
    "if torch.cuda.is_available():\n",
    "    torch.cuda.manual_seed_all(42)\n",
    "\n"
   ]
  },
  {
   "cell_type": "markdown",
   "id": "36a648f84576beee",
   "metadata": {
    "id": "36a648f84576beee"
   },
   "source": [
    "## Task 1: Implement Your First Neural Network\n",
    "\n",
    "In this task, you are required to implement a simple Convolutional Neural Network (CNN) for CIFAR-10 classification."
   ]
  },
  {
   "cell_type": "code",
   "execution_count": 3,
   "id": "85568622844e67ad",
   "metadata": {
    "ExecuteTime": {
     "end_time": "2024-04-18T08:35:47.306619Z",
     "start_time": "2024-04-18T08:35:47.303615Z"
    },
    "executionInfo": {
     "elapsed": 2,
     "status": "ok",
     "timestamp": 1713689799691,
     "user": {
      "displayName": "王怡博",
      "userId": "18243970072632574540"
     },
     "user_tz": -480
    },
    "id": "85568622844e67ad"
   },
   "outputs": [],
   "source": [
    "# Some hyperparameters\n",
    "batch_size = 32\n",
    "learning_rate = 0.01\n",
    "momentum = 0.9\n",
    "epoch_num = 10\n",
    "default_transform = transforms.Compose([transforms.ToTensor()])\n",
    "device = 'cuda' if torch.cuda.is_available() else 'cpu'"
   ]
  },
  {
   "cell_type": "markdown",
   "id": "6eed02df9b539fc2",
   "metadata": {
    "id": "6eed02df9b539fc2"
   },
   "source": [
    "### Data Loading\n",
    "\n",
    "Load CIFAR-10 dataset. CIFAR-10 dataset consists of 60000 32x32 colour images in 10 classes, with 6000 images per class. There are 50000 training images and 10000 test images. You can refer to the [page](https://www.cs.toronto.edu/~kriz/cifar.html) for more information about the dataset."
   ]
  },
  {
   "cell_type": "code",
   "execution_count": 4,
   "id": "ff40dfb53a3d8b8b",
   "metadata": {
    "ExecuteTime": {
     "end_time": "2024-04-18T08:35:49.440428Z",
     "start_time": "2024-04-18T08:35:47.307129Z"
    },
    "colab": {
     "base_uri": "https://localhost:8080/"
    },
    "executionInfo": {
     "elapsed": 8187,
     "status": "ok",
     "timestamp": 1713689811580,
     "user": {
      "displayName": "王怡博",
      "userId": "18243970072632574540"
     },
     "user_tz": -480
    },
    "id": "ff40dfb53a3d8b8b",
    "outputId": "4941f169-7307-4614-95ce-bf4c631689e0"
   },
   "outputs": [
    {
     "name": "stdout",
     "output_type": "stream",
     "text": [
      "Downloading https://www.cs.toronto.edu/~kriz/cifar-10-python.tar.gz to ../../data/cifar-10-python.tar.gz\n"
     ]
    },
    {
     "name": "stderr",
     "output_type": "stream",
     "text": [
      "100%|██████████| 170498071/170498071 [00:03<00:00, 46278215.40it/s]\n"
     ]
    },
    {
     "name": "stdout",
     "output_type": "stream",
     "text": [
      "Extracting ../../data/cifar-10-python.tar.gz to ../../data\n",
      "Files already downloaded and verified\n",
      "Number of training examples: 50000\n",
      "Number of test examples: 10000\n",
      "Image Shape: torch.Size([3, 32, 32])\n",
      "Number of classes: 10\n"
     ]
    }
   ],
   "source": [
    "# Load CIFAR-10 dataset\n",
    "\n",
    "train_set = datasets.CIFAR10(root='../../data', train=True, download=True, transform=default_transform)  # Change the root directory to store the dataset\n",
    "test_set = datasets.CIFAR10(root='../../data', train=False, download=True, transform=default_transform)  # The dataset will be downloaded automatically\n",
    "\n",
    "print(f\"Number of training examples: {len(train_set)}\")\n",
    "print(f\"Number of test examples: {len(test_set)}\")\n",
    "print(f\"Image Shape: {train_set[0][0].shape}\")\n",
    "print(f\"Number of classes: {len(train_set.classes)}\")\n",
    "\n",
    "train_loader = DataLoader(train_set, batch_size=batch_size, shuffle=True)\n",
    "test_loader = DataLoader(test_set, batch_size=batch_size, shuffle=False)"
   ]
  },
  {
   "cell_type": "markdown",
   "id": "ff45df08dbf2a35",
   "metadata": {
    "id": "ff45df08dbf2a35"
   },
   "source": [
    "### Implementation\n",
    "\n",
    "Implement a simple CNN model for CIFAR-10 classification. Your model should have the following architecture:\n",
    "\n",
    "| Layers | Hyper-parameters                                                              |\n",
    "|--------|-------------------------------------------------------------------------------|\n",
    "| conv_1 | in_channel=3, out_channel=16, kernel_size=(5, 5), stride=1, followed by ReLU  |\n",
    "| pool_1 | kernel_size=(2, 2), stride=2                                                  |\n",
    "| conv_2 | in_channel=16, out_channel=36, kernel_size=(3, 3), stride=1, followed by ReLU |\n",
    "| pool_2 | kernel=(2, 2), stride=2                                                       |\n",
    "| fc_1   | (1296, 128), followed by ReLU                                                 |\n",
    "| fc_2   | (128, 10), followed by ReLU                                                   |\n",
    "\n",
    "This simple CNN model contains two convolutional layers and two max pooling layers. Do not forget to flatten the output tensor before feeding it to the final fully connected layers."
   ]
  },
  {
   "cell_type": "code",
   "execution_count": 5,
   "id": "583922b50596abd0",
   "metadata": {
    "ExecuteTime": {
     "end_time": "2024-04-18T08:35:49.447405Z",
     "start_time": "2024-04-18T08:35:49.441424Z"
    },
    "executionInfo": {
     "elapsed": 522,
     "status": "ok",
     "timestamp": 1713689814439,
     "user": {
      "displayName": "王怡博",
      "userId": "18243970072632574540"
     },
     "user_tz": -480
    },
    "id": "583922b50596abd0"
   },
   "outputs": [],
   "source": [
    "# Define your CNN model\n",
    "\n",
    "class MyNet(nn.Module):\n",
    "    def __init__(self):\n",
    "        super(MyNet, self).__init__()\n",
    "        self.conv1 = nn.Conv2d(in_channels=3, out_channels=16, kernel_size=5, stride=1)\n",
    "        self.pool1 = nn.MaxPool2d(kernel_size=2, stride=2)\n",
    "        self.conv2 = nn.Conv2d(in_channels=16, out_channels=36, kernel_size=3, stride=1)\n",
    "        self.pool2 = nn.MaxPool2d(kernel_size=2, stride=2)\n",
    "        self.fc1 = nn.Linear(1296, 128)\n",
    "        self.fc2 = nn.Linear(128, 10)\n",
    "\n",
    "    def forward(self,x):\n",
    "        x = self.pool1(F.relu(self.conv1(x)))\n",
    "        x = self.pool2(F.relu(self.conv2(x)))\n",
    "        x = x.view(-1, 36 * 6 * 6)  # Flatten\n",
    "        x = F.relu(self.fc2(F.relu(self.fc1(x))))\n",
    "        return x"
   ]
  },
  {
   "cell_type": "markdown",
   "id": "344313ec2e122168",
   "metadata": {
    "id": "344313ec2e122168"
   },
   "source": [
    "### Training\n",
    "\n",
    "Train your model on CIFAR-10 training set. We use simple stochastic gradient descent (SGD) as the optimizer and cross-entropy loss as the loss function.\n",
    "\n",
    "If you find training extremely slow, you can reduce the number of epochs or the size of the dataset. This can be due to the limited computational resources provided by your personal computer. You can also use Google Colab to run your code on a GPU."
   ]
  },
  {
   "cell_type": "code",
   "execution_count": 11,
   "id": "de4f5b1ddae3f65e",
   "metadata": {
    "ExecuteTime": {
     "end_time": "2024-04-18T08:35:49.461222Z",
     "start_time": "2024-04-18T08:35:49.451390Z"
    },
    "colab": {
     "base_uri": "https://localhost:8080/"
    },
    "executionInfo": {
     "elapsed": 3,
     "status": "ok",
     "timestamp": 1713607231199,
     "user": {
      "displayName": "王怡博",
      "userId": "18243970072632574540"
     },
     "user_tz": -480
    },
    "id": "de4f5b1ddae3f65e",
    "outputId": "2c9158c1-5ad8-475a-d021-65a04cb6f8a2"
   },
   "outputs": [
    {
     "name": "stdout",
     "output_type": "stream",
     "text": [
      "MyNet(\n",
      "  (conv1): Conv2d(3, 16, kernel_size=(5, 5), stride=(1, 1))\n",
      "  (pool1): MaxPool2d(kernel_size=2, stride=2, padding=0, dilation=1, ceil_mode=False)\n",
      "  (conv2): Conv2d(16, 36, kernel_size=(3, 3), stride=(1, 1))\n",
      "  (pool2): MaxPool2d(kernel_size=2, stride=2, padding=0, dilation=1, ceil_mode=False)\n",
      "  (fc1): Linear(in_features=1296, out_features=128, bias=True)\n",
      "  (fc2): Linear(in_features=128, out_features=10, bias=True)\n",
      ")\n"
     ]
    }
   ],
   "source": [
    "# Initialize your model\n",
    "my_net = MyNet().to(device)\n",
    "print(my_net)\n",
    "\n",
    "# Define the loss function and optimizer\n",
    "criterion = nn.CrossEntropyLoss()\n",
    "optimizer = optim.SGD(my_net.parameters(), lr=learning_rate, momentum=momentum)"
   ]
  },
  {
   "cell_type": "code",
   "execution_count": 12,
   "id": "e0d8de3b55aecc4d",
   "metadata": {
    "ExecuteTime": {
     "end_time": "2024-04-18T08:37:03.128329Z",
     "start_time": "2024-04-18T08:35:49.462209Z"
    },
    "colab": {
     "base_uri": "https://localhost:8080/"
    },
    "executionInfo": {
     "elapsed": 104434,
     "status": "ok",
     "timestamp": 1713607335631,
     "user": {
      "displayName": "王怡博",
      "userId": "18243970072632574540"
     },
     "user_tz": -480
    },
    "id": "e0d8de3b55aecc4d",
    "outputId": "02bb2f0d-519f-4181-97ab-7aa7565139f9"
   },
   "outputs": [
    {
     "name": "stdout",
     "output_type": "stream",
     "text": [
      "Epoch: 1, Batch: 100, Loss: 2.295\n",
      "Epoch: 1, Batch: 200, Loss: 2.186\n",
      "Epoch: 1, Batch: 300, Loss: 2.086\n",
      "Epoch: 1, Batch: 400, Loss: 1.958\n",
      "Epoch: 1, Batch: 500, Loss: 1.900\n",
      "Epoch: 1, Batch: 600, Loss: 1.816\n",
      "Epoch: 1, Batch: 700, Loss: 1.755\n",
      "Epoch: 1, Batch: 800, Loss: 1.705\n",
      "Epoch: 1, Batch: 900, Loss: 1.643\n",
      "Epoch: 1, Batch: 1000, Loss: 1.547\n",
      "Epoch: 1, Batch: 1100, Loss: 1.523\n",
      "Epoch: 1, Batch: 1200, Loss: 1.513\n",
      "Epoch: 1, Batch: 1300, Loss: 1.511\n",
      "Epoch: 1, Batch: 1400, Loss: 1.478\n",
      "Epoch: 1, Batch: 1500, Loss: 1.426\n",
      "Epoch: 2, Batch: 100, Loss: 1.351\n",
      "Epoch: 2, Batch: 200, Loss: 1.340\n",
      "Epoch: 2, Batch: 300, Loss: 1.312\n",
      "Epoch: 2, Batch: 400, Loss: 1.309\n",
      "Epoch: 2, Batch: 500, Loss: 1.326\n",
      "Epoch: 2, Batch: 600, Loss: 1.300\n",
      "Epoch: 2, Batch: 700, Loss: 1.294\n",
      "Epoch: 2, Batch: 800, Loss: 1.283\n",
      "Epoch: 2, Batch: 900, Loss: 1.311\n",
      "Epoch: 2, Batch: 1000, Loss: 1.250\n",
      "Epoch: 2, Batch: 1100, Loss: 1.195\n",
      "Epoch: 2, Batch: 1200, Loss: 1.221\n",
      "Epoch: 2, Batch: 1300, Loss: 1.219\n",
      "Epoch: 2, Batch: 1400, Loss: 1.235\n",
      "Epoch: 2, Batch: 1500, Loss: 1.165\n",
      "Epoch: 3, Batch: 100, Loss: 1.094\n",
      "Epoch: 3, Batch: 200, Loss: 1.110\n",
      "Epoch: 3, Batch: 300, Loss: 1.101\n",
      "Epoch: 3, Batch: 400, Loss: 1.123\n",
      "Epoch: 3, Batch: 500, Loss: 1.116\n",
      "Epoch: 3, Batch: 600, Loss: 1.094\n",
      "Epoch: 3, Batch: 700, Loss: 1.127\n",
      "Epoch: 3, Batch: 800, Loss: 1.073\n",
      "Epoch: 3, Batch: 900, Loss: 1.062\n",
      "Epoch: 3, Batch: 1000, Loss: 1.115\n",
      "Epoch: 3, Batch: 1100, Loss: 1.127\n",
      "Epoch: 3, Batch: 1200, Loss: 1.091\n",
      "Epoch: 3, Batch: 1300, Loss: 1.088\n",
      "Epoch: 3, Batch: 1400, Loss: 1.045\n",
      "Epoch: 3, Batch: 1500, Loss: 1.062\n",
      "Epoch: 4, Batch: 100, Loss: 0.975\n",
      "Epoch: 4, Batch: 200, Loss: 0.967\n",
      "Epoch: 4, Batch: 300, Loss: 0.991\n",
      "Epoch: 4, Batch: 400, Loss: 0.946\n",
      "Epoch: 4, Batch: 500, Loss: 0.967\n",
      "Epoch: 4, Batch: 600, Loss: 1.008\n",
      "Epoch: 4, Batch: 700, Loss: 0.965\n",
      "Epoch: 4, Batch: 800, Loss: 0.974\n",
      "Epoch: 4, Batch: 900, Loss: 0.975\n",
      "Epoch: 4, Batch: 1000, Loss: 0.962\n",
      "Epoch: 4, Batch: 1100, Loss: 0.971\n",
      "Epoch: 4, Batch: 1200, Loss: 0.986\n",
      "Epoch: 4, Batch: 1300, Loss: 0.969\n",
      "Epoch: 4, Batch: 1400, Loss: 0.908\n",
      "Epoch: 4, Batch: 1500, Loss: 0.999\n",
      "Epoch: 5, Batch: 100, Loss: 0.838\n",
      "Epoch: 5, Batch: 200, Loss: 0.825\n",
      "Epoch: 5, Batch: 300, Loss: 0.823\n",
      "Epoch: 5, Batch: 400, Loss: 0.890\n",
      "Epoch: 5, Batch: 500, Loss: 0.818\n",
      "Epoch: 5, Batch: 600, Loss: 0.834\n",
      "Epoch: 5, Batch: 700, Loss: 0.865\n",
      "Epoch: 5, Batch: 800, Loss: 0.851\n",
      "Epoch: 5, Batch: 900, Loss: 0.853\n",
      "Epoch: 5, Batch: 1000, Loss: 0.828\n",
      "Epoch: 5, Batch: 1100, Loss: 0.898\n",
      "Epoch: 5, Batch: 1200, Loss: 0.902\n",
      "Epoch: 5, Batch: 1300, Loss: 0.889\n",
      "Epoch: 5, Batch: 1400, Loss: 0.867\n",
      "Epoch: 5, Batch: 1500, Loss: 0.877\n",
      "Epoch: 6, Batch: 100, Loss: 0.709\n",
      "Epoch: 6, Batch: 200, Loss: 0.702\n",
      "Epoch: 6, Batch: 300, Loss: 0.782\n",
      "Epoch: 6, Batch: 400, Loss: 0.739\n",
      "Epoch: 6, Batch: 500, Loss: 0.742\n",
      "Epoch: 6, Batch: 600, Loss: 0.806\n",
      "Epoch: 6, Batch: 700, Loss: 0.753\n",
      "Epoch: 6, Batch: 800, Loss: 0.756\n",
      "Epoch: 6, Batch: 900, Loss: 0.751\n",
      "Epoch: 6, Batch: 1000, Loss: 0.772\n",
      "Epoch: 6, Batch: 1100, Loss: 0.779\n",
      "Epoch: 6, Batch: 1200, Loss: 0.797\n",
      "Epoch: 6, Batch: 1300, Loss: 0.794\n",
      "Epoch: 6, Batch: 1400, Loss: 0.804\n",
      "Epoch: 6, Batch: 1500, Loss: 0.784\n",
      "Epoch: 7, Batch: 100, Loss: 0.600\n",
      "Epoch: 7, Batch: 200, Loss: 0.638\n",
      "Epoch: 7, Batch: 300, Loss: 0.640\n",
      "Epoch: 7, Batch: 400, Loss: 0.655\n",
      "Epoch: 7, Batch: 500, Loss: 0.695\n",
      "Epoch: 7, Batch: 600, Loss: 0.671\n",
      "Epoch: 7, Batch: 700, Loss: 0.651\n",
      "Epoch: 7, Batch: 800, Loss: 0.707\n",
      "Epoch: 7, Batch: 900, Loss: 0.703\n",
      "Epoch: 7, Batch: 1000, Loss: 0.725\n",
      "Epoch: 7, Batch: 1100, Loss: 0.688\n",
      "Epoch: 7, Batch: 1200, Loss: 0.724\n",
      "Epoch: 7, Batch: 1300, Loss: 0.748\n",
      "Epoch: 7, Batch: 1400, Loss: 0.719\n",
      "Epoch: 7, Batch: 1500, Loss: 0.805\n",
      "Epoch: 8, Batch: 100, Loss: 0.536\n",
      "Epoch: 8, Batch: 200, Loss: 0.572\n",
      "Epoch: 8, Batch: 300, Loss: 0.574\n",
      "Epoch: 8, Batch: 400, Loss: 0.606\n",
      "Epoch: 8, Batch: 500, Loss: 0.579\n",
      "Epoch: 8, Batch: 600, Loss: 0.590\n",
      "Epoch: 8, Batch: 700, Loss: 0.627\n",
      "Epoch: 8, Batch: 800, Loss: 0.648\n",
      "Epoch: 8, Batch: 900, Loss: 0.669\n",
      "Epoch: 8, Batch: 1000, Loss: 0.633\n",
      "Epoch: 8, Batch: 1100, Loss: 0.641\n",
      "Epoch: 8, Batch: 1200, Loss: 0.675\n",
      "Epoch: 8, Batch: 1300, Loss: 0.693\n",
      "Epoch: 8, Batch: 1400, Loss: 0.650\n",
      "Epoch: 8, Batch: 1500, Loss: 0.683\n",
      "Epoch: 9, Batch: 100, Loss: 0.502\n",
      "Epoch: 9, Batch: 200, Loss: 0.504\n",
      "Epoch: 9, Batch: 300, Loss: 0.485\n",
      "Epoch: 9, Batch: 400, Loss: 0.517\n",
      "Epoch: 9, Batch: 500, Loss: 0.516\n",
      "Epoch: 9, Batch: 600, Loss: 0.522\n",
      "Epoch: 9, Batch: 700, Loss: 0.573\n",
      "Epoch: 9, Batch: 800, Loss: 0.526\n",
      "Epoch: 9, Batch: 900, Loss: 0.576\n",
      "Epoch: 9, Batch: 1000, Loss: 0.570\n",
      "Epoch: 9, Batch: 1100, Loss: 0.605\n",
      "Epoch: 9, Batch: 1200, Loss: 0.604\n",
      "Epoch: 9, Batch: 1300, Loss: 0.634\n",
      "Epoch: 9, Batch: 1400, Loss: 0.569\n",
      "Epoch: 9, Batch: 1500, Loss: 0.624\n",
      "Epoch: 10, Batch: 100, Loss: 0.431\n",
      "Epoch: 10, Batch: 200, Loss: 0.442\n",
      "Epoch: 10, Batch: 300, Loss: 0.430\n",
      "Epoch: 10, Batch: 400, Loss: 0.452\n",
      "Epoch: 10, Batch: 500, Loss: 0.451\n",
      "Epoch: 10, Batch: 600, Loss: 0.477\n",
      "Epoch: 10, Batch: 700, Loss: 0.515\n",
      "Epoch: 10, Batch: 800, Loss: 0.492\n",
      "Epoch: 10, Batch: 900, Loss: 0.508\n",
      "Epoch: 10, Batch: 1000, Loss: 0.534\n",
      "Epoch: 10, Batch: 1100, Loss: 0.578\n",
      "Epoch: 10, Batch: 1200, Loss: 0.532\n",
      "Epoch: 10, Batch: 1300, Loss: 0.551\n",
      "Epoch: 10, Batch: 1400, Loss: 0.563\n",
      "Epoch: 10, Batch: 1500, Loss: 0.551\n"
     ]
    }
   ],
   "source": [
    "# Training\n",
    "losses = []\n",
    "for epoch in range(epoch_num):\n",
    "    running_loss = []\n",
    "    for i, data in enumerate(train_loader, start=0):\n",
    "        inputs, labels = data[0].to(device), data[1].to(device)\n",
    "\n",
    "        optimizer.zero_grad()  # Remember to zero the gradients every iteration\n",
    "\n",
    "        outputs = my_net(inputs)\n",
    "        loss = criterion(outputs, labels)\n",
    "        loss.backward()  # Backward pass\n",
    "        optimizer.step()  # Optimize\n",
    "\n",
    "        running_loss.append(loss.item())\n",
    "        if i % 100 == 99:\n",
    "            print(f\"Epoch: {epoch + 1}, Batch: {i + 1}, Loss: {sum(running_loss) / len(running_loss):.3f}\")\n",
    "            losses.append(sum(running_loss) / len(running_loss))\n",
    "            running_loss = []"
   ]
  },
  {
   "cell_type": "code",
   "execution_count": 13,
   "id": "d08b1921d489ba5e",
   "metadata": {
    "ExecuteTime": {
     "end_time": "2024-04-18T08:37:03.268210Z",
     "start_time": "2024-04-18T08:37:03.129317Z"
    },
    "colab": {
     "base_uri": "https://localhost:8080/",
     "height": 472
    },
    "executionInfo": {
     "elapsed": 12,
     "status": "ok",
     "timestamp": 1713607335631,
     "user": {
      "displayName": "王怡博",
      "userId": "18243970072632574540"
     },
     "user_tz": -480
    },
    "id": "d08b1921d489ba5e",
    "outputId": "9623a182-16a2-46a5-c85a-ff43dba60cea"
   },
   "outputs": [
    {
     "data": {
      "image/png": "[encoded data removed]",
      "text/plain": [
       "<Figure size 640x480 with 1 Axes>"
      ]
     },
     "metadata": {},
     "output_type": "display_data"
    }
   ],
   "source": [
    "# Observe the loss curve\n",
    "figure, ax = plt.subplots()\n",
    "ax.plot(losses)\n",
    "ax.set(xlabel='Batch', ylabel='Loss', title='Loss Curve')\n",
    "plt.show()"
   ]
  },
  {
   "cell_type": "markdown",
   "id": "dff3f030ff09ed68",
   "metadata": {
    "id": "dff3f030ff09ed68"
   },
   "source": [
    "### Testing\n",
    "\n",
    "Test your model on CIFAR-10 test set."
   ]
  },
  {
   "cell_type": "code",
   "execution_count": 14,
   "id": "f1f44ad7d18bb08b",
   "metadata": {
    "ExecuteTime": {
     "end_time": "2024-04-18T08:37:04.888923Z",
     "start_time": "2024-04-18T08:37:03.269194Z"
    },
    "colab": {
     "base_uri": "https://localhost:8080/"
    },
    "executionInfo": {
     "elapsed": 1600,
     "status": "ok",
     "timestamp": 1713607337221,
     "user": {
      "displayName": "王怡博",
      "userId": "18243970072632574540"
     },
     "user_tz": -480
    },
    "id": "f1f44ad7d18bb08b",
    "outputId": "c0d66042-06cb-46ed-ad5c-b099ae16eb50"
   },
   "outputs": [
    {
     "name": "stderr",
     "output_type": "stream",
     "text": [
      "100%|██████████| 313/313 [00:01<00:00, 198.05it/s]"
     ]
    },
    {
     "name": "stdout",
     "output_type": "stream",
     "text": [
      "Accuracy: 0.636\n"
     ]
    },
    {
     "name": "stderr",
     "output_type": "stream",
     "text": [
      "\n"
     ]
    }
   ],
   "source": [
    "# Testing\n",
    "predictions = []\n",
    "ground_truths = []\n",
    "with torch.no_grad():\n",
    "    for data in tqdm(test_loader):\n",
    "        inputs, labels = data[0].to(device), data[1].to(device)\n",
    "        outputs = my_net(inputs)\n",
    "        _, predicted = torch.max(outputs.data, 1)\n",
    "        predictions.extend(predicted.cpu().numpy())\n",
    "        ground_truths.extend(labels.cpu().numpy())\n",
    "\n",
    "accuracy = metrics.accuracy_score(ground_truths, predictions)\n",
    "print(f\"Accuracy: {accuracy:.3f}\")"
   ]
  },
  {
   "cell_type": "markdown",
   "id": "920794f858afc5c5",
   "metadata": {
    "id": "920794f858afc5c5"
   },
   "source": [
    "## Task 2: Implement Neural Network with Data Augmentation\n",
    "\n",
    "In this task, you are required to implement a CNN for CIFAR-10 classification with data augmentation. Data augmentation is a technique to artificially create new training data from the existing training data. It can help improve the performance of the model and reduce overfitting."
   ]
  },
  {
   "cell_type": "code",
   "execution_count": 7,
   "id": "e4882136",
   "metadata": {
    "colab": {
     "base_uri": "https://localhost:8080/"
    },
    "executionInfo": {
     "elapsed": 1902,
     "status": "ok",
     "timestamp": 1713689835501,
     "user": {
      "displayName": "王怡博",
      "userId": "18243970072632574540"
     },
     "user_tz": -480
    },
    "id": "e4882136",
    "outputId": "dceabf69-0cfd-4f4e-8b64-f6870a07a6d6"
   },
   "outputs": [
    {
     "name": "stdout",
     "output_type": "stream",
     "text": [
      "Files already downloaded and verified\n",
      "Files already downloaded and verified\n",
      "Number of training examples: 50000\n",
      "Number of test examples: 10000\n",
      "Image Shape: torch.Size([3, 32, 32])\n",
      "Number of classes: 10\n"
     ]
    }
   ],
   "source": [
    "# set seed\n",
    "torch.manual_seed(42)\n",
    "if torch.cuda.is_available():\n",
    "    torch.cuda.manual_seed_all(42)\n",
    "\n",
    "# Load CIFAR-10 dataset\n",
    "train_transform = transforms.Compose([\n",
    "    transforms.RandomHorizontalFlip(),\n",
    "    transforms.RandomVerticalFlip(),\n",
    "    transforms.ToTensor(),\n",
    "    transforms.Normalize((0.5, 0.5, 0.5), (0.5, 0.5, 0.5))\n",
    "])\n",
    "test_transform = transforms.Compose([\n",
    "    transforms.ToTensor(),              # 转换成Tensor\n",
    "    transforms.Normalize((0.5, 0.5, 0.5), (0.5, 0.5, 0.5))\n",
    "])\n",
    "\n",
    "train_set = datasets.CIFAR10(root='../../data', train=True, download=True, transform=train_transform)  # Change the root directory to store the dataset\n",
    "test_set = datasets.CIFAR10(root='../../data', train=False, download=True, transform=test_transform)  # The dataset will be downloaded automatically\n",
    "\n",
    "print(f\"Number of training examples: {len(train_set)}\")\n",
    "print(f\"Number of test examples: {len(test_set)}\")\n",
    "print(f\"Image Shape: {train_set[0][0].shape}\")\n",
    "print(f\"Number of classes: {len(train_set.classes)}\")\n",
    "\n",
    "train_loader = DataLoader(train_set, batch_size=batch_size, shuffle=True)\n",
    "test_loader = DataLoader(test_set, batch_size=batch_size, shuffle=False)"
   ]
  },
  {
   "cell_type": "markdown",
   "id": "ab842353",
   "metadata": {},
   "source": [
    "### Training\n",
    "\n",
    "Train your model on CIFAR-10 training set. We use simple stochastic gradient descent (SGD) as the optimizer and cross-entropy loss as the loss function."
   ]
  },
  {
   "cell_type": "code",
   "execution_count": 8,
   "id": "5c4a2f43",
   "metadata": {
    "colab": {
     "base_uri": "https://localhost:8080/"
    },
    "executionInfo": {
     "elapsed": 618,
     "status": "ok",
     "timestamp": 1713689836118,
     "user": {
      "displayName": "王怡博",
      "userId": "18243970072632574540"
     },
     "user_tz": -480
    },
    "id": "5c4a2f43",
    "outputId": "a502c1be-9877-4ef3-e7f2-69d9a1926b68"
   },
   "outputs": [
    {
     "name": "stdout",
     "output_type": "stream",
     "text": [
      "MyNet(\n",
      "  (conv1): Conv2d(3, 16, kernel_size=(5, 5), stride=(1, 1))\n",
      "  (pool1): MaxPool2d(kernel_size=2, stride=2, padding=0, dilation=1, ceil_mode=False)\n",
      "  (conv2): Conv2d(16, 36, kernel_size=(3, 3), stride=(1, 1))\n",
      "  (pool2): MaxPool2d(kernel_size=2, stride=2, padding=0, dilation=1, ceil_mode=False)\n",
      "  (fc1): Linear(in_features=1296, out_features=128, bias=True)\n",
      "  (fc2): Linear(in_features=128, out_features=10, bias=True)\n",
      ")\n"
     ]
    }
   ],
   "source": [
    "my_net_aug = MyNet().to(device)\n",
    "print(my_net_aug)\n",
    "\n",
    "# Define the loss function and optimizer\n",
    "criterion = nn.CrossEntropyLoss()\n",
    "optimizer = optim.SGD(my_net_aug.parameters(), lr=learning_rate, momentum=momentum)"
   ]
  },
  {
   "cell_type": "code",
   "execution_count": 9,
   "id": "d328d612",
   "metadata": {
    "colab": {
     "base_uri": "https://localhost:8080/"
    },
    "executionInfo": {
     "elapsed": 205261,
     "status": "ok",
     "timestamp": 1713690041377,
     "user": {
      "displayName": "王怡博",
      "userId": "18243970072632574540"
     },
     "user_tz": -480
    },
    "id": "d328d612",
    "outputId": "3b703b53-6444-4afe-9aed-4362861ef07e"
   },
   "outputs": [
    {
     "name": "stdout",
     "output_type": "stream",
     "text": [
      "Epoch: 1, Batch: 100, Loss: 2.265\n",
      "Epoch: 1, Batch: 200, Loss: 2.098\n",
      "Epoch: 1, Batch: 300, Loss: 1.943\n",
      "Epoch: 1, Batch: 400, Loss: 1.819\n",
      "Epoch: 1, Batch: 500, Loss: 1.729\n",
      "Epoch: 1, Batch: 600, Loss: 1.676\n",
      "Epoch: 1, Batch: 700, Loss: 1.636\n",
      "Epoch: 1, Batch: 800, Loss: 1.554\n",
      "Epoch: 1, Batch: 900, Loss: 1.564\n",
      "Epoch: 1, Batch: 1000, Loss: 1.536\n",
      "Epoch: 1, Batch: 1100, Loss: 1.514\n",
      "Epoch: 1, Batch: 1200, Loss: 1.493\n",
      "Epoch: 1, Batch: 1300, Loss: 1.514\n",
      "Epoch: 1, Batch: 1400, Loss: 1.461\n",
      "Epoch: 1, Batch: 1500, Loss: 1.413\n",
      "Epoch: 2, Batch: 100, Loss: 1.407\n",
      "Epoch: 2, Batch: 200, Loss: 1.383\n",
      "Epoch: 2, Batch: 300, Loss: 1.351\n",
      "Epoch: 2, Batch: 400, Loss: 1.349\n",
      "Epoch: 2, Batch: 500, Loss: 1.345\n",
      "Epoch: 2, Batch: 600, Loss: 1.337\n",
      "Epoch: 2, Batch: 700, Loss: 1.329\n",
      "Epoch: 2, Batch: 800, Loss: 1.285\n",
      "Epoch: 2, Batch: 900, Loss: 1.279\n",
      "Epoch: 2, Batch: 1000, Loss: 1.290\n",
      "Epoch: 2, Batch: 1100, Loss: 1.274\n",
      "Epoch: 2, Batch: 1200, Loss: 1.294\n",
      "Epoch: 2, Batch: 1300, Loss: 1.257\n",
      "Epoch: 2, Batch: 1400, Loss: 1.277\n",
      "Epoch: 2, Batch: 1500, Loss: 1.247\n",
      "Epoch: 3, Batch: 100, Loss: 1.162\n",
      "Epoch: 3, Batch: 200, Loss: 1.178\n",
      "Epoch: 3, Batch: 300, Loss: 1.174\n",
      "Epoch: 3, Batch: 400, Loss: 1.146\n",
      "Epoch: 3, Batch: 500, Loss: 1.128\n",
      "Epoch: 3, Batch: 600, Loss: 1.181\n",
      "Epoch: 3, Batch: 700, Loss: 1.182\n",
      "Epoch: 3, Batch: 800, Loss: 1.188\n",
      "Epoch: 3, Batch: 900, Loss: 1.169\n",
      "Epoch: 3, Batch: 1000, Loss: 1.116\n",
      "Epoch: 3, Batch: 1100, Loss: 1.155\n",
      "Epoch: 3, Batch: 1200, Loss: 1.152\n",
      "Epoch: 3, Batch: 1300, Loss: 1.177\n",
      "Epoch: 3, Batch: 1400, Loss: 1.156\n",
      "Epoch: 3, Batch: 1500, Loss: 1.141\n",
      "Epoch: 4, Batch: 100, Loss: 1.091\n",
      "Epoch: 4, Batch: 200, Loss: 1.083\n",
      "Epoch: 4, Batch: 300, Loss: 1.091\n",
      "Epoch: 4, Batch: 400, Loss: 1.075\n",
      "Epoch: 4, Batch: 500, Loss: 1.071\n",
      "Epoch: 4, Batch: 600, Loss: 1.100\n",
      "Epoch: 4, Batch: 700, Loss: 1.132\n",
      "Epoch: 4, Batch: 800, Loss: 1.061\n",
      "Epoch: 4, Batch: 900, Loss: 1.088\n",
      "Epoch: 4, Batch: 1000, Loss: 1.071\n",
      "Epoch: 4, Batch: 1100, Loss: 1.094\n",
      "Epoch: 4, Batch: 1200, Loss: 1.083\n",
      "Epoch: 4, Batch: 1300, Loss: 1.145\n",
      "Epoch: 4, Batch: 1400, Loss: 1.056\n",
      "Epoch: 4, Batch: 1500, Loss: 1.078\n",
      "Epoch: 5, Batch: 100, Loss: 1.025\n",
      "Epoch: 5, Batch: 200, Loss: 1.043\n",
      "Epoch: 5, Batch: 300, Loss: 1.042\n",
      "Epoch: 5, Batch: 400, Loss: 1.061\n",
      "Epoch: 5, Batch: 500, Loss: 1.008\n",
      "Epoch: 5, Batch: 600, Loss: 1.067\n",
      "Epoch: 5, Batch: 700, Loss: 1.023\n",
      "Epoch: 5, Batch: 800, Loss: 1.024\n",
      "Epoch: 5, Batch: 900, Loss: 1.001\n",
      "Epoch: 5, Batch: 1000, Loss: 1.047\n",
      "Epoch: 5, Batch: 1100, Loss: 1.032\n",
      "Epoch: 5, Batch: 1200, Loss: 1.042\n",
      "Epoch: 5, Batch: 1300, Loss: 1.034\n",
      "Epoch: 5, Batch: 1400, Loss: 1.020\n",
      "Epoch: 5, Batch: 1500, Loss: 1.001\n",
      "Epoch: 6, Batch: 100, Loss: 0.959\n",
      "Epoch: 6, Batch: 200, Loss: 0.941\n",
      "Epoch: 6, Batch: 300, Loss: 1.019\n",
      "Epoch: 6, Batch: 400, Loss: 0.948\n",
      "Epoch: 6, Batch: 500, Loss: 0.986\n",
      "Epoch: 6, Batch: 600, Loss: 0.994\n",
      "Epoch: 6, Batch: 700, Loss: 0.981\n",
      "Epoch: 6, Batch: 800, Loss: 0.953\n",
      "Epoch: 6, Batch: 900, Loss: 0.973\n",
      "Epoch: 6, Batch: 1000, Loss: 1.017\n",
      "Epoch: 6, Batch: 1100, Loss: 0.982\n",
      "Epoch: 6, Batch: 1200, Loss: 1.019\n",
      "Epoch: 6, Batch: 1300, Loss: 0.959\n",
      "Epoch: 6, Batch: 1400, Loss: 1.002\n",
      "Epoch: 6, Batch: 1500, Loss: 1.023\n",
      "Epoch: 7, Batch: 100, Loss: 0.970\n",
      "Epoch: 7, Batch: 200, Loss: 0.959\n",
      "Epoch: 7, Batch: 300, Loss: 0.946\n",
      "Epoch: 7, Batch: 400, Loss: 0.943\n",
      "Epoch: 7, Batch: 500, Loss: 0.981\n",
      "Epoch: 7, Batch: 600, Loss: 0.934\n",
      "Epoch: 7, Batch: 700, Loss: 0.928\n",
      "Epoch: 7, Batch: 800, Loss: 0.967\n",
      "Epoch: 7, Batch: 900, Loss: 0.940\n",
      "Epoch: 7, Batch: 1000, Loss: 1.000\n",
      "Epoch: 7, Batch: 1100, Loss: 0.938\n",
      "Epoch: 7, Batch: 1200, Loss: 0.950\n",
      "Epoch: 7, Batch: 1300, Loss: 0.960\n",
      "Epoch: 7, Batch: 1400, Loss: 0.978\n",
      "Epoch: 7, Batch: 1500, Loss: 0.966\n",
      "Epoch: 8, Batch: 100, Loss: 0.932\n",
      "Epoch: 8, Batch: 200, Loss: 0.917\n",
      "Epoch: 8, Batch: 300, Loss: 0.916\n",
      "Epoch: 8, Batch: 400, Loss: 0.906\n",
      "Epoch: 8, Batch: 500, Loss: 0.913\n",
      "Epoch: 8, Batch: 600, Loss: 0.908\n",
      "Epoch: 8, Batch: 700, Loss: 0.947\n",
      "Epoch: 8, Batch: 800, Loss: 0.928\n",
      "Epoch: 8, Batch: 900, Loss: 0.923\n",
      "Epoch: 8, Batch: 1000, Loss: 0.895\n",
      "Epoch: 8, Batch: 1100, Loss: 0.941\n",
      "Epoch: 8, Batch: 1200, Loss: 0.940\n",
      "Epoch: 8, Batch: 1300, Loss: 0.934\n",
      "Epoch: 8, Batch: 1400, Loss: 0.948\n",
      "Epoch: 8, Batch: 1500, Loss: 0.945\n",
      "Epoch: 9, Batch: 100, Loss: 0.885\n",
      "Epoch: 9, Batch: 200, Loss: 0.874\n",
      "Epoch: 9, Batch: 300, Loss: 0.940\n",
      "Epoch: 9, Batch: 400, Loss: 0.917\n",
      "Epoch: 9, Batch: 500, Loss: 0.908\n",
      "Epoch: 9, Batch: 600, Loss: 0.878\n",
      "Epoch: 9, Batch: 700, Loss: 0.867\n",
      "Epoch: 9, Batch: 800, Loss: 0.891\n",
      "Epoch: 9, Batch: 900, Loss: 0.945\n",
      "Epoch: 9, Batch: 1000, Loss: 0.909\n",
      "Epoch: 9, Batch: 1100, Loss: 0.888\n",
      "Epoch: 9, Batch: 1200, Loss: 0.903\n",
      "Epoch: 9, Batch: 1300, Loss: 0.893\n",
      "Epoch: 9, Batch: 1400, Loss: 0.904\n",
      "Epoch: 9, Batch: 1500, Loss: 0.900\n",
      "Epoch: 10, Batch: 100, Loss: 0.913\n",
      "Epoch: 10, Batch: 200, Loss: 0.883\n",
      "Epoch: 10, Batch: 300, Loss: 0.868\n",
      "Epoch: 10, Batch: 400, Loss: 0.880\n",
      "Epoch: 10, Batch: 500, Loss: 0.910\n",
      "Epoch: 10, Batch: 600, Loss: 0.922\n",
      "Epoch: 10, Batch: 700, Loss: 0.879\n",
      "Epoch: 10, Batch: 800, Loss: 0.946\n",
      "Epoch: 10, Batch: 900, Loss: 0.834\n",
      "Epoch: 10, Batch: 1000, Loss: 0.928\n",
      "Epoch: 10, Batch: 1100, Loss: 0.893\n",
      "Epoch: 10, Batch: 1200, Loss: 0.874\n",
      "Epoch: 10, Batch: 1300, Loss: 0.859\n",
      "Epoch: 10, Batch: 1400, Loss: 0.848\n",
      "Epoch: 10, Batch: 1500, Loss: 0.910\n"
     ]
    }
   ],
   "source": [
    "# Training\n",
    "losses = []\n",
    "for epoch in range(epoch_num):\n",
    "    running_loss = []\n",
    "    for i, data in enumerate(train_loader, start=0):\n",
    "        inputs, labels = data[0].to(device), data[1].to(device)\n",
    "\n",
    "        optimizer.zero_grad()  # Remember to zero the gradients every iteration\n",
    "\n",
    "        outputs = my_net_aug(inputs)\n",
    "        loss = criterion(outputs, labels)\n",
    "        loss.backward()  # Backward pass\n",
    "        optimizer.step()  # Optimize\n",
    "\n",
    "        running_loss.append(loss.item())\n",
    "        if i % 100 == 99:\n",
    "            print(f\"Epoch: {epoch + 1}, Batch: {i + 1}, Loss: {sum(running_loss) / len(running_loss):.3f}\")\n",
    "            losses.append(sum(running_loss) / len(running_loss))\n",
    "            running_loss = []"
   ]
  },
  {
   "cell_type": "code",
   "execution_count": 10,
   "id": "bedd9f2d",
   "metadata": {
    "colab": {
     "base_uri": "https://localhost:8080/",
     "height": 472
    },
    "executionInfo": {
     "elapsed": 14,
     "status": "ok",
     "timestamp": 1713690041377,
     "user": {
      "displayName": "王怡博",
      "userId": "18243970072632574540"
     },
     "user_tz": -480
    },
    "id": "bedd9f2d",
    "outputId": "85069b42-836b-4dc7-d45a-b85e6f602f05"
   },
   "outputs": [
    {
     "data": {
      "image/png": "[encoded data removed]",
      "text/plain": [
       "<Figure size 640x480 with 1 Axes>"
      ]
     },
     "metadata": {},
     "output_type": "display_data"
    }
   ],
   "source": [
    "# Observe the loss curve\n",
    "figure, ax = plt.subplots()\n",
    "ax.plot(losses)\n",
    "ax.set(xlabel='Batch', ylabel='Loss', title='Loss Curve')\n",
    "plt.show()"
   ]
  },
  {
   "cell_type": "markdown",
   "id": "7e37c780",
   "metadata": {},
   "source": [
    "### Testing\n",
    "\n",
    "Test your model on CIFAR-10 test set."
   ]
  },
  {
   "cell_type": "code",
   "execution_count": 12,
   "id": "d9016b03",
   "metadata": {
    "colab": {
     "base_uri": "https://localhost:8080/"
    },
    "executionInfo": {
     "elapsed": 4053,
     "status": "ok",
     "timestamp": 1713690074410,
     "user": {
      "displayName": "王怡博",
      "userId": "18243970072632574540"
     },
     "user_tz": -480
    },
    "id": "d9016b03",
    "outputId": "8c02d377-254c-44a4-c493-1b26cd22f76a"
   },
   "outputs": [
    {
     "name": "stderr",
     "output_type": "stream",
     "text": [
      "100%|██████████| 313/313 [00:04<00:00, 74.98it/s] "
     ]
    },
    {
     "name": "stdout",
     "output_type": "stream",
     "text": [
      "Accuracy: 0.660\n"
     ]
    },
    {
     "name": "stderr",
     "output_type": "stream",
     "text": [
      "\n"
     ]
    }
   ],
   "source": [
    "# Testing\n",
    "predictions = []\n",
    "ground_truths = []\n",
    "with torch.no_grad():\n",
    "    for data in tqdm(test_loader):\n",
    "        inputs, labels = data[0].to(device), data[1].to(device)\n",
    "        outputs = my_net_aug(inputs)\n",
    "        _, predicted = torch.max(outputs.data, 1)\n",
    "        predictions.extend(predicted.cpu().numpy())\n",
    "        ground_truths.extend(labels.cpu().numpy())\n",
    "\n",
    "accuracy = metrics.accuracy_score(ground_truths, predictions)\n",
    "print(f\"Accuracy: {accuracy:.3f}\")"
   ]
  },
  {
   "cell_type": "markdown",
   "id": "d75271960560cc54",
   "metadata": {
    "id": "d75271960560cc54"
   },
   "source": [
    "## Task 3: Modify the Architecture of the Neural Network\n",
    "In this task, you are required to implement a CNN for CIFAR-10 classification with dropout. Dropout is a technique to randomly omit some feature detectors on each training case. It can help improve the performance of the model and reduce overfitting."
   ]
  },
  {
   "cell_type": "code",
   "execution_count": 13,
   "id": "cc414a30",
   "metadata": {
    "colab": {
     "base_uri": "https://localhost:8080/"
    },
    "executionInfo": {
     "elapsed": 2128,
     "status": "ok",
     "timestamp": 1713690082213,
     "user": {
      "displayName": "王怡博",
      "userId": "18243970072632574540"
     },
     "user_tz": -480
    },
    "id": "cc414a30",
    "outputId": "175610d2-dc4f-4765-cea9-0ab8f8132e27"
   },
   "outputs": [
    {
     "name": "stdout",
     "output_type": "stream",
     "text": [
      "Files already downloaded and verified\n",
      "Files already downloaded and verified\n",
      "Number of training examples: 50000\n",
      "Number of test examples: 10000\n",
      "Image Shape: torch.Size([3, 32, 32])\n",
      "Number of classes: 10\n"
     ]
    }
   ],
   "source": [
    "# set seed\n",
    "torch.manual_seed(42)\n",
    "if torch.cuda.is_available():\n",
    "    torch.cuda.manual_seed_all(42)\n",
    "\n",
    "# Load CIFAR-10 dataset\n",
    "\n",
    "train_set = datasets.CIFAR10(root='../../data', train=True, download=True, transform=default_transform)  # Change the root directory to store the dataset\n",
    "test_set = datasets.CIFAR10(root='../../data', train=False, download=True, transform=default_transform)  # The dataset will be downloaded automatically\n",
    "\n",
    "print(f\"Number of training examples: {len(train_set)}\")\n",
    "print(f\"Number of test examples: {len(test_set)}\")\n",
    "print(f\"Image Shape: {train_set[0][0].shape}\")\n",
    "print(f\"Number of classes: {len(train_set.classes)}\")\n",
    "\n",
    "train_loader = DataLoader(train_set, batch_size=batch_size, shuffle=True)\n",
    "test_loader = DataLoader(test_set, batch_size=batch_size, shuffle=False)"
   ]
  },
  {
   "cell_type": "code",
   "execution_count": 14,
   "id": "815fe603",
   "metadata": {
    "executionInfo": {
     "elapsed": 9,
     "status": "ok",
     "timestamp": 1713690082213,
     "user": {
      "displayName": "王怡博",
      "userId": "18243970072632574540"
     },
     "user_tz": -480
    },
    "id": "815fe603"
   },
   "outputs": [],
   "source": [
    "# Define your CNN model\n",
    "class MyNet_drop(nn.Module):\n",
    "    def __init__(self):\n",
    "        super(MyNet_drop, self).__init__()\n",
    "        self.conv1 = nn.Conv2d(in_channels=3, out_channels=16, kernel_size=5, stride=1)\n",
    "        self.pool1 = nn.MaxPool2d(kernel_size=2, stride=2)\n",
    "        self.conv2 = nn.Conv2d(in_channels=16, out_channels=36, kernel_size=3, stride=1)\n",
    "        self.pool2 = nn.MaxPool2d(kernel_size=2, stride=2)\n",
    "        self.fc1 = nn.Linear(1296, 128)\n",
    "        self.fc2 = nn.Linear(128, 10)\n",
    "        self.dropout = nn.Dropout(0.1)\n",
    "\n",
    "    def forward(self,x):\n",
    "        x = self.dropout(self.pool1(F.relu(self.conv1(x))))\n",
    "        x = self.dropout(self.pool2(F.relu(self.conv2(x))))\n",
    "        x = x.view(-1, 36 * 6 * 6)  # Flatten\n",
    "        x = F.relu(self.fc2(self.dropout(F.relu(self.fc1(x)))))\n",
    "        return x"
   ]
  },
  {
   "cell_type": "code",
   "execution_count": 15,
   "id": "0fac6fd1",
   "metadata": {
    "colab": {
     "base_uri": "https://localhost:8080/"
    },
    "executionInfo": {
     "elapsed": 8,
     "status": "ok",
     "timestamp": 1713690082213,
     "user": {
      "displayName": "王怡博",
      "userId": "18243970072632574540"
     },
     "user_tz": -480
    },
    "id": "0fac6fd1",
    "outputId": "5fd6b6c2-d4ee-4315-b81d-38e1bfac31b1"
   },
   "outputs": [
    {
     "name": "stdout",
     "output_type": "stream",
     "text": [
      "MyNet_drop(\n",
      "  (conv1): Conv2d(3, 16, kernel_size=(5, 5), stride=(1, 1))\n",
      "  (pool1): MaxPool2d(kernel_size=2, stride=2, padding=0, dilation=1, ceil_mode=False)\n",
      "  (conv2): Conv2d(16, 36, kernel_size=(3, 3), stride=(1, 1))\n",
      "  (pool2): MaxPool2d(kernel_size=2, stride=2, padding=0, dilation=1, ceil_mode=False)\n",
      "  (fc1): Linear(in_features=1296, out_features=128, bias=True)\n",
      "  (fc2): Linear(in_features=128, out_features=10, bias=True)\n",
      "  (dropout): Dropout(p=0.1, inplace=False)\n",
      ")\n"
     ]
    }
   ],
   "source": [
    "# Initialize your model\n",
    "my_net_drop = MyNet_drop().to(device)\n",
    "print(my_net_drop)\n",
    "\n",
    "# Define the loss function and optimizer\n",
    "criterion = nn.CrossEntropyLoss()\n",
    "optimizer = optim.SGD(my_net_drop.parameters(), lr=learning_rate, momentum=momentum)"
   ]
  },
  {
   "cell_type": "markdown",
   "id": "5a91fac0",
   "metadata": {},
   "source": [
    "### Training\n",
    "\n",
    "Train your model on CIFAR-10 training set. We use simple stochastic gradient descent (SGD) as the optimizer and cross-entropy loss as the loss function."
   ]
  },
  {
   "cell_type": "code",
   "execution_count": 16,
   "id": "f9550483",
   "metadata": {
    "colab": {
     "base_uri": "https://localhost:8080/"
    },
    "executionInfo": {
     "elapsed": 113030,
     "status": "ok",
     "timestamp": 1713690195238,
     "user": {
      "displayName": "王怡博",
      "userId": "18243970072632574540"
     },
     "user_tz": -480
    },
    "id": "f9550483",
    "outputId": "8c0865c4-82ee-4241-b113-fc47af060e00"
   },
   "outputs": [
    {
     "name": "stdout",
     "output_type": "stream",
     "text": [
      "Epoch: 1, Batch: 100, Loss: 2.296\n",
      "Epoch: 1, Batch: 200, Loss: 2.197\n",
      "Epoch: 1, Batch: 300, Loss: 2.087\n",
      "Epoch: 1, Batch: 400, Loss: 1.983\n",
      "Epoch: 1, Batch: 500, Loss: 1.937\n",
      "Epoch: 1, Batch: 600, Loss: 1.881\n",
      "Epoch: 1, Batch: 700, Loss: 1.806\n",
      "Epoch: 1, Batch: 800, Loss: 1.775\n",
      "Epoch: 1, Batch: 900, Loss: 1.717\n",
      "Epoch: 1, Batch: 1000, Loss: 1.682\n",
      "Epoch: 1, Batch: 1100, Loss: 1.640\n",
      "Epoch: 1, Batch: 1200, Loss: 1.605\n",
      "Epoch: 1, Batch: 1300, Loss: 1.540\n",
      "Epoch: 1, Batch: 1400, Loss: 1.538\n",
      "Epoch: 1, Batch: 1500, Loss: 1.499\n",
      "Epoch: 2, Batch: 100, Loss: 1.440\n",
      "Epoch: 2, Batch: 200, Loss: 1.413\n",
      "Epoch: 2, Batch: 300, Loss: 1.380\n",
      "Epoch: 2, Batch: 400, Loss: 1.383\n",
      "Epoch: 2, Batch: 500, Loss: 1.384\n",
      "Epoch: 2, Batch: 600, Loss: 1.361\n",
      "Epoch: 2, Batch: 700, Loss: 1.375\n",
      "Epoch: 2, Batch: 800, Loss: 1.352\n",
      "Epoch: 2, Batch: 900, Loss: 1.355\n",
      "Epoch: 2, Batch: 1000, Loss: 1.330\n",
      "Epoch: 2, Batch: 1100, Loss: 1.282\n",
      "Epoch: 2, Batch: 1200, Loss: 1.319\n",
      "Epoch: 2, Batch: 1300, Loss: 1.290\n",
      "Epoch: 2, Batch: 1400, Loss: 1.320\n",
      "Epoch: 2, Batch: 1500, Loss: 1.245\n",
      "Epoch: 3, Batch: 100, Loss: 1.203\n",
      "Epoch: 3, Batch: 200, Loss: 1.207\n",
      "Epoch: 3, Batch: 300, Loss: 1.219\n",
      "Epoch: 3, Batch: 400, Loss: 1.212\n",
      "Epoch: 3, Batch: 500, Loss: 1.212\n",
      "Epoch: 3, Batch: 600, Loss: 1.198\n",
      "Epoch: 3, Batch: 700, Loss: 1.224\n",
      "Epoch: 3, Batch: 800, Loss: 1.201\n",
      "Epoch: 3, Batch: 900, Loss: 1.179\n",
      "Epoch: 3, Batch: 1000, Loss: 1.210\n",
      "Epoch: 3, Batch: 1100, Loss: 1.217\n",
      "Epoch: 3, Batch: 1200, Loss: 1.201\n",
      "Epoch: 3, Batch: 1300, Loss: 1.168\n",
      "Epoch: 3, Batch: 1400, Loss: 1.137\n",
      "Epoch: 3, Batch: 1500, Loss: 1.156\n",
      "Epoch: 4, Batch: 100, Loss: 1.086\n",
      "Epoch: 4, Batch: 200, Loss: 1.096\n",
      "Epoch: 4, Batch: 300, Loss: 1.097\n",
      "Epoch: 4, Batch: 400, Loss: 1.083\n",
      "Epoch: 4, Batch: 500, Loss: 1.074\n",
      "Epoch: 4, Batch: 600, Loss: 1.081\n",
      "Epoch: 4, Batch: 700, Loss: 1.092\n",
      "Epoch: 4, Batch: 800, Loss: 1.092\n",
      "Epoch: 4, Batch: 900, Loss: 1.088\n",
      "Epoch: 4, Batch: 1000, Loss: 1.063\n",
      "Epoch: 4, Batch: 1100, Loss: 1.071\n",
      "Epoch: 4, Batch: 1200, Loss: 1.114\n",
      "Epoch: 4, Batch: 1300, Loss: 1.078\n",
      "Epoch: 4, Batch: 1400, Loss: 1.042\n",
      "Epoch: 4, Batch: 1500, Loss: 1.103\n",
      "Epoch: 5, Batch: 100, Loss: 1.014\n",
      "Epoch: 5, Batch: 200, Loss: 0.992\n",
      "Epoch: 5, Batch: 300, Loss: 0.982\n",
      "Epoch: 5, Batch: 400, Loss: 1.005\n",
      "Epoch: 5, Batch: 500, Loss: 0.965\n",
      "Epoch: 5, Batch: 600, Loss: 1.011\n",
      "Epoch: 5, Batch: 700, Loss: 1.015\n",
      "Epoch: 5, Batch: 800, Loss: 0.970\n",
      "Epoch: 5, Batch: 900, Loss: 1.011\n",
      "Epoch: 5, Batch: 1000, Loss: 0.980\n",
      "Epoch: 5, Batch: 1100, Loss: 1.037\n",
      "Epoch: 5, Batch: 1200, Loss: 1.056\n",
      "Epoch: 5, Batch: 1300, Loss: 1.044\n",
      "Epoch: 5, Batch: 1400, Loss: 0.995\n",
      "Epoch: 5, Batch: 1500, Loss: 1.008\n",
      "Epoch: 6, Batch: 100, Loss: 0.887\n",
      "Epoch: 6, Batch: 200, Loss: 0.893\n",
      "Epoch: 6, Batch: 300, Loss: 0.974\n",
      "Epoch: 6, Batch: 400, Loss: 0.931\n",
      "Epoch: 6, Batch: 500, Loss: 0.953\n",
      "Epoch: 6, Batch: 600, Loss: 0.969\n",
      "Epoch: 6, Batch: 700, Loss: 0.948\n",
      "Epoch: 6, Batch: 800, Loss: 0.944\n",
      "Epoch: 6, Batch: 900, Loss: 0.921\n",
      "Epoch: 6, Batch: 1000, Loss: 0.942\n",
      "Epoch: 6, Batch: 1100, Loss: 0.974\n",
      "Epoch: 6, Batch: 1200, Loss: 0.959\n",
      "Epoch: 6, Batch: 1300, Loss: 0.964\n",
      "Epoch: 6, Batch: 1400, Loss: 0.969\n",
      "Epoch: 6, Batch: 1500, Loss: 0.975\n",
      "Epoch: 7, Batch: 100, Loss: 0.844\n",
      "Epoch: 7, Batch: 200, Loss: 0.908\n",
      "Epoch: 7, Batch: 300, Loss: 0.877\n",
      "Epoch: 7, Batch: 400, Loss: 0.873\n",
      "Epoch: 7, Batch: 500, Loss: 0.851\n",
      "Epoch: 7, Batch: 600, Loss: 0.882\n",
      "Epoch: 7, Batch: 700, Loss: 0.908\n",
      "Epoch: 7, Batch: 800, Loss: 0.917\n",
      "Epoch: 7, Batch: 900, Loss: 0.907\n",
      "Epoch: 7, Batch: 1000, Loss: 0.927\n",
      "Epoch: 7, Batch: 1100, Loss: 0.932\n",
      "Epoch: 7, Batch: 1200, Loss: 0.892\n",
      "Epoch: 7, Batch: 1300, Loss: 0.966\n",
      "Epoch: 7, Batch: 1400, Loss: 0.887\n",
      "Epoch: 7, Batch: 1500, Loss: 0.933\n",
      "Epoch: 8, Batch: 100, Loss: 0.828\n",
      "Epoch: 8, Batch: 200, Loss: 0.837\n",
      "Epoch: 8, Batch: 300, Loss: 0.829\n",
      "Epoch: 8, Batch: 400, Loss: 0.871\n",
      "Epoch: 8, Batch: 500, Loss: 0.817\n",
      "Epoch: 8, Batch: 600, Loss: 0.839\n",
      "Epoch: 8, Batch: 700, Loss: 0.853\n",
      "Epoch: 8, Batch: 800, Loss: 0.871\n",
      "Epoch: 8, Batch: 900, Loss: 0.895\n",
      "Epoch: 8, Batch: 1000, Loss: 0.866\n",
      "Epoch: 8, Batch: 1100, Loss: 0.857\n",
      "Epoch: 8, Batch: 1200, Loss: 0.844\n",
      "Epoch: 8, Batch: 1300, Loss: 0.851\n",
      "Epoch: 8, Batch: 1400, Loss: 0.832\n",
      "Epoch: 8, Batch: 1500, Loss: 0.861\n",
      "Epoch: 9, Batch: 100, Loss: 0.796\n",
      "Epoch: 9, Batch: 200, Loss: 0.829\n",
      "Epoch: 9, Batch: 300, Loss: 0.799\n",
      "Epoch: 9, Batch: 400, Loss: 0.795\n",
      "Epoch: 9, Batch: 500, Loss: 0.831\n",
      "Epoch: 9, Batch: 600, Loss: 0.823\n",
      "Epoch: 9, Batch: 700, Loss: 0.833\n",
      "Epoch: 9, Batch: 800, Loss: 0.820\n",
      "Epoch: 9, Batch: 900, Loss: 0.849\n",
      "Epoch: 9, Batch: 1000, Loss: 0.797\n",
      "Epoch: 9, Batch: 1100, Loss: 0.820\n",
      "Epoch: 9, Batch: 1200, Loss: 0.838\n",
      "Epoch: 9, Batch: 1300, Loss: 0.843\n",
      "Epoch: 9, Batch: 1400, Loss: 0.827\n",
      "Epoch: 9, Batch: 1500, Loss: 0.850\n",
      "Epoch: 10, Batch: 100, Loss: 0.768\n",
      "Epoch: 10, Batch: 200, Loss: 0.743\n",
      "Epoch: 10, Batch: 300, Loss: 0.748\n",
      "Epoch: 10, Batch: 400, Loss: 0.724\n",
      "Epoch: 10, Batch: 500, Loss: 0.761\n",
      "Epoch: 10, Batch: 600, Loss: 0.800\n",
      "Epoch: 10, Batch: 700, Loss: 0.793\n",
      "Epoch: 10, Batch: 800, Loss: 0.783\n",
      "Epoch: 10, Batch: 900, Loss: 0.801\n",
      "Epoch: 10, Batch: 1000, Loss: 0.821\n",
      "Epoch: 10, Batch: 1100, Loss: 0.852\n",
      "Epoch: 10, Batch: 1200, Loss: 0.811\n",
      "Epoch: 10, Batch: 1300, Loss: 0.848\n",
      "Epoch: 10, Batch: 1400, Loss: 0.817\n",
      "Epoch: 10, Batch: 1500, Loss: 0.815\n"
     ]
    }
   ],
   "source": [
    "# Training\n",
    "\n",
    "losses = []\n",
    "for epoch in range(epoch_num):\n",
    "    running_loss = []\n",
    "    for i, data in enumerate(train_loader, start=0):\n",
    "        inputs, labels = data[0].to(device), data[1].to(device)\n",
    "\n",
    "        optimizer.zero_grad()  # Remember to zero the gradients every iteration\n",
    "\n",
    "        outputs = my_net_drop(inputs)\n",
    "        loss = criterion(outputs, labels)\n",
    "        loss.backward()  # Backward pass\n",
    "        optimizer.step()  # Optimize\n",
    "\n",
    "        running_loss.append(loss.item())\n",
    "        if i % 100 == 99:\n",
    "            print(f\"Epoch: {epoch + 1}, Batch: {i + 1}, Loss: {sum(running_loss) / len(running_loss):.3f}\")\n",
    "            losses.append(sum(running_loss) / len(running_loss))\n",
    "            running_loss = []"
   ]
  },
  {
   "cell_type": "code",
   "execution_count": 17,
   "id": "070b6f90",
   "metadata": {
    "colab": {
     "base_uri": "https://localhost:8080/",
     "height": 472
    },
    "executionInfo": {
     "elapsed": 853,
     "status": "ok",
     "timestamp": 1713690196087,
     "user": {
      "displayName": "王怡博",
      "userId": "18243970072632574540"
     },
     "user_tz": -480
    },
    "id": "070b6f90",
    "outputId": "307e2031-d1ff-4d86-c164-9ec38f20831c"
   },
   "outputs": [
    {
     "data": {
      "image/png": "[encoded data removed]",
      "text/plain": [
       "<Figure size 640x480 with 1 Axes>"
      ]
     },
     "metadata": {},
     "output_type": "display_data"
    }
   ],
   "source": [
    "# Observe the loss curve\n",
    "figure, ax = plt.subplots()\n",
    "ax.plot(losses)\n",
    "ax.set(xlabel='Batch', ylabel='Loss', title='Loss Curve')\n",
    "plt.show()"
   ]
  },
  {
   "cell_type": "markdown",
   "id": "14d7f1df",
   "metadata": {},
   "source": [
    "### Testing\n",
    "\n",
    "Test your model on CIFAR-10 test set."
   ]
  },
  {
   "cell_type": "code",
   "execution_count": 18,
   "id": "14d4a730",
   "metadata": {
    "colab": {
     "base_uri": "https://localhost:8080/"
    },
    "executionInfo": {
     "elapsed": 1652,
     "status": "ok",
     "timestamp": 1713690197732,
     "user": {
      "displayName": "王怡博",
      "userId": "18243970072632574540"
     },
     "user_tz": -480
    },
    "id": "14d4a730",
    "outputId": "c03882c2-bad0-4487-ad9e-7a34c082f6c6"
   },
   "outputs": [
    {
     "name": "stderr",
     "output_type": "stream",
     "text": [
      "100%|██████████| 313/313 [00:02<00:00, 139.61it/s]\n"
     ]
    },
    {
     "name": "stdout",
     "output_type": "stream",
     "text": [
      "Accuracy: 0.646\n"
     ]
    }
   ],
   "source": [
    "# Testing\n",
    "predictions = []\n",
    "ground_truths = []\n",
    "with torch.no_grad():\n",
    "    for data in tqdm(test_loader):\n",
    "        inputs, labels = data[0].to(device), data[1].to(device)\n",
    "        outputs = my_net_drop(inputs)\n",
    "        _, predicted = torch.max(outputs.data, 1)\n",
    "        predictions.extend(predicted.cpu().numpy())\n",
    "        ground_truths.extend(labels.cpu().numpy())\n",
    "\n",
    "accuracy = metrics.accuracy_score(ground_truths, predictions)\n",
    "print(f\"Accuracy: {accuracy:.3f}\")"
   ]
  },
  {
   "cell_type": "markdown",
   "id": "b518a49e9ce58c1b",
   "metadata": {
    "id": "b518a49e9ce58c1b"
   },
   "source": [
    "## Task 4: Try Different Loss Functions on Long-Tailed Dataset"
   ]
  },
  {
   "cell_type": "markdown",
   "id": "ol7TB5fxx5HT",
   "metadata": {
    "id": "ol7TB5fxx5HT"
   },
   "source": [
    "Real-world classiﬁcation problems typically exhibit an imbalanced or long-tailed label dis-\n",
    "tribution, wherein many labels are associated with only a few samples. This poses a challenge\n",
    "for generalisation on such labels, and also makes naïve learning biased towards dominant labels.\n",
    "\n",
    "LA[1] once proposed a loss function to solve the long tail problem, which is still considered the most effective method. For the sake of simplicity, we have omitted the theoretical derivation formula for everyone, and only give the final conclusion here. Please implement it by yourself based on the loss function given.The LA formula is as follows:\n",
    "\n",
    "$$\\ell(y, f(x))=-\\log \\frac{e^{f_{y}(x)+\\tau \\cdot \\log \\pi_{y}}}{\\sum_{y^{\\prime} \\in[L]} e^{f_{y^{\\prime}}(x)+\\tau \\cdot \\log \\pi_{y^{\\prime}}}}$$\n",
    "\n",
    "where $f(x)$ is the logit of the model output, $y$ is the label corresponding to the sample, $\\tau$ is the prior probability of the class, and is usually set to 1.\n",
    "\n",
    "[1]Menon, A. K., Jayasumana, S., Rawat, A. S., Jain, H., Veit, A., & Kumar, S. (2020). Long-tail learning via logit adjustment. arxiv preprint arxiv:2007.07314. https://github.com/google-research/google-research/tree/master/logit_adjustment\n"
   ]
  },
  {
   "cell_type": "markdown",
   "id": "SLcrToec5QHA",
   "metadata": {
    "id": "SLcrToec5QHA"
   },
   "source": [
    "In order to reduce the pressure on students, we will directly extract the code of the data set with an imbalance rate of 100 from CIFAR10 and give it to you. Note that you do not need to modify the code of the next module, but you must understand the meaning of the function name, because in the subsequent code implementation, especially when implementing LA loss functiond, calling the appropriate function will be of great help to you."
   ]
  },
  {
   "cell_type": "code",
   "execution_count": 19,
   "id": "Rvqcb4Zr3HEy",
   "metadata": {
    "executionInfo": {
     "elapsed": 3,
     "status": "ok",
     "timestamp": 1713690197733,
     "user": {
      "displayName": "王怡博",
      "userId": "18243970072632574540"
     },
     "user_tz": -480
    },
    "id": "Rvqcb4Zr3HEy"
   },
   "outputs": [],
   "source": [
    "class IMBALANCECIFAR10(datasets.CIFAR10):\n",
    "    cls_num = 10\n",
    "\n",
    "    def __init__(self, root, imb_factor=None, rand_number=0, train=True,\n",
    "                 transform=None, target_transform=None, download=True):\n",
    "        super().__init__(root, train, transform, target_transform, download)\n",
    "\n",
    "        if train and imb_factor is not None:\n",
    "            np.random.seed(rand_number)\n",
    "            img_num_list = self.get_img_num_per_cls(self.cls_num, imb_factor)\n",
    "            self.gen_imbalanced_data(img_num_list)\n",
    "\n",
    "        self.classnames = self.classes\n",
    "        self.labels = self.targets\n",
    "        self.cls_num_list = self.get_cls_num_list()\n",
    "        self.num_classes = len(self.cls_num_list)\n",
    "\n",
    "    def get_img_num_per_cls(self, cls_num, imb_factor):\n",
    "        img_max = len(self.data) / cls_num\n",
    "        img_num_per_cls = []\n",
    "        for cls_idx in range(cls_num):\n",
    "            num = img_max * (imb_factor**(cls_idx / (cls_num - 1.0)))\n",
    "            img_num_per_cls.append(int(num))\n",
    "        return img_num_per_cls\n",
    "\n",
    "    def gen_imbalanced_data(self, img_num_per_cls):\n",
    "        new_data = []\n",
    "        new_targets = []\n",
    "        targets_np = np.array(self.targets, dtype=np.int64)\n",
    "        classes = np.unique(targets_np)\n",
    "        # np.random.shuffle(classes)\n",
    "        self.num_per_cls_dict = dict()\n",
    "        for the_class, the_img_num in zip(classes, img_num_per_cls):\n",
    "            self.num_per_cls_dict[the_class] = the_img_num\n",
    "            idx = np.where(targets_np == the_class)[0]\n",
    "            np.random.shuffle(idx)\n",
    "            selec_idx = idx[:the_img_num]\n",
    "            new_data.append(self.data[selec_idx, ...])\n",
    "            new_targets.extend([the_class, ] * the_img_num)\n",
    "        new_data = np.vstack(new_data)\n",
    "        self.data = new_data\n",
    "        self.targets = new_targets\n",
    "\n",
    "    def get_cls_num_list(self):\n",
    "        counter = defaultdict(int)\n",
    "        for label in self.labels:\n",
    "            counter[label] += 1\n",
    "        labels = list(counter.keys())\n",
    "        labels.sort()\n",
    "        cls_num_list = [counter[label] for label in labels]\n",
    "        return cls_num_list\n",
    "\n",
    "class CIFAR10_IR100(IMBALANCECIFAR10):\n",
    "    def __init__(self, root, train=True, transform=None):\n",
    "        super().__init__(root, imb_factor=0.01, train=train, transform=transform)"
   ]
  },
  {
   "cell_type": "markdown",
   "id": "X_PJUQGR5lgY",
   "metadata": {
    "id": "X_PJUQGR5lgY"
   },
   "source": [
    "Use the function defined above, load CIFAR10_IR100 as the training set, and load the test set in Task1 as the test set (both need to use the CIFAR10_IR100 function)，"
   ]
  },
  {
   "cell_type": "code",
   "execution_count": 20,
   "id": "lpTYQe0X2ZtF",
   "metadata": {
    "colab": {
     "base_uri": "https://localhost:8080/"
    },
    "executionInfo": {
     "elapsed": 1886,
     "status": "ok",
     "timestamp": 1713690199616,
     "user": {
      "displayName": "王怡博",
      "userId": "18243970072632574540"
     },
     "user_tz": -480
    },
    "id": "lpTYQe0X2ZtF",
    "outputId": "70594dda-d73b-469f-fe7d-e9535019f642"
   },
   "outputs": [
    {
     "name": "stdout",
     "output_type": "stream",
     "text": [
      "Files already downloaded and verified\n",
      "Files already downloaded and verified\n",
      "Number of training examples: 12406\n",
      "Number of test examples: 10000\n",
      "Image Shape: torch.Size([3, 32, 32])\n",
      "Number of classes: 10\n"
     ]
    }
   ],
   "source": [
    "# set seed\n",
    "torch.manual_seed(42)\n",
    "if torch.cuda.is_available():\n",
    "    torch.cuda.manual_seed_all(42)\n",
    "\n",
    "train_set = CIFAR10_IR100(root='../../data', train=True, transform=default_transform)  # Change the root directory to store the dataset\n",
    "test_set = CIFAR10_IR100(root='../../data', train=False, transform=default_transform)  # The dataset will be downloaded automatically\n",
    "\n",
    "print(f\"Number of training examples: {len(train_set)}\")\n",
    "print(f\"Number of test examples: {len(test_set)}\")\n",
    "print(f\"Image Shape: {train_set[0][0].shape}\")\n",
    "print(f\"Number of classes: {len(train_set.classes)}\")\n",
    "\n",
    "train_loader = DataLoader(train_set, batch_size=batch_size, shuffle=True)\n",
    "test_loader = DataLoader(test_set, batch_size=batch_size, shuffle=False)"
   ]
  },
  {
   "cell_type": "markdown",
   "id": "t-_9gwAS6G4a",
   "metadata": {
    "id": "t-_9gwAS6G4a"
   },
   "source": [
    "### Training\n",
    "\n",
    "Train your model on CIFAR10_IR100 training set. We use simple stochastic gradient descent (SGD) as the optimizer and cross-entropy loss as the loss function.\n",
    "\n",
    "If you find training extremely slow, you can reduce the number of epochs or the size of the dataset. This can be due to the limited computational resources provided by your personal computer. You can also use Google Colab to run your code on a GPU.\n",
    "\n",
    "Note: The loss is a CE-like form, and you can implement the LA loss through modifing the output without redefining the loss function."
   ]
  },
  {
   "cell_type": "code",
   "execution_count": 21,
   "id": "SzrfhfbU6HUs",
   "metadata": {
    "colab": {
     "base_uri": "https://localhost:8080/"
    },
    "executionInfo": {
     "elapsed": 4,
     "status": "ok",
     "timestamp": 1713690199617,
     "user": {
      "displayName": "王怡博",
      "userId": "18243970072632574540"
     },
     "user_tz": -480
    },
    "id": "SzrfhfbU6HUs",
    "outputId": "e391ea3c-e366-4840-e123-7c8b012f4fba"
   },
   "outputs": [
    {
     "name": "stdout",
     "output_type": "stream",
     "text": [
      "MyNet(\n",
      "  (conv1): Conv2d(3, 16, kernel_size=(5, 5), stride=(1, 1))\n",
      "  (pool1): MaxPool2d(kernel_size=2, stride=2, padding=0, dilation=1, ceil_mode=False)\n",
      "  (conv2): Conv2d(16, 36, kernel_size=(3, 3), stride=(1, 1))\n",
      "  (pool2): MaxPool2d(kernel_size=2, stride=2, padding=0, dilation=1, ceil_mode=False)\n",
      "  (fc1): Linear(in_features=1296, out_features=128, bias=True)\n",
      "  (fc2): Linear(in_features=128, out_features=10, bias=True)\n",
      ")\n"
     ]
    }
   ],
   "source": [
    "my_net = MyNet().to(device)\n",
    "print(my_net)\n",
    "\n",
    "# Define the loss function and optimizer\n",
    "criterion = nn.CrossEntropyLoss()\n",
    "optimizer = optim.SGD(my_net.parameters(), lr=learning_rate, momentum=momentum)"
   ]
  },
  {
   "cell_type": "markdown",
   "id": "odUZ9FxI6bwL",
   "metadata": {
    "id": "odUZ9FxI6bwL"
   },
   "source": []
  },
  {
   "cell_type": "code",
   "execution_count": 22,
   "id": "yNeCO8AI6Rre",
   "metadata": {
    "colab": {
     "base_uri": "https://localhost:8080/"
    },
    "executionInfo": {
     "elapsed": 26625,
     "status": "ok",
     "timestamp": 1713690226239,
     "user": {
      "displayName": "王怡博",
      "userId": "18243970072632574540"
     },
     "user_tz": -480
    },
    "id": "yNeCO8AI6Rre",
    "outputId": "cb6ad33c-060d-44c4-a34e-cecffc6e1360"
   },
   "outputs": [
    {
     "name": "stdout",
     "output_type": "stream",
     "text": [
      "Epoch: 1, Batch: 100, Loss: 1.836\n",
      "Epoch: 1, Batch: 200, Loss: 1.745\n",
      "Epoch: 1, Batch: 300, Loss: 1.711\n",
      "Epoch: 2, Batch: 100, Loss: 1.460\n",
      "Epoch: 2, Batch: 200, Loss: 1.367\n",
      "Epoch: 2, Batch: 300, Loss: 1.367\n",
      "Epoch: 3, Batch: 100, Loss: 1.264\n",
      "Epoch: 3, Batch: 200, Loss: 1.289\n",
      "Epoch: 3, Batch: 300, Loss: 1.189\n",
      "Epoch: 4, Batch: 100, Loss: 1.140\n",
      "Epoch: 4, Batch: 200, Loss: 1.186\n",
      "Epoch: 4, Batch: 300, Loss: 1.172\n",
      "Epoch: 5, Batch: 100, Loss: 1.085\n",
      "Epoch: 5, Batch: 200, Loss: 1.137\n",
      "Epoch: 5, Batch: 300, Loss: 1.092\n",
      "Epoch: 6, Batch: 100, Loss: 0.882\n",
      "Epoch: 6, Batch: 200, Loss: 0.829\n",
      "Epoch: 6, Batch: 300, Loss: 0.884\n",
      "Epoch: 7, Batch: 100, Loss: 0.774\n",
      "Epoch: 7, Batch: 200, Loss: 0.773\n",
      "Epoch: 7, Batch: 300, Loss: 0.743\n",
      "Epoch: 8, Batch: 100, Loss: 0.679\n",
      "Epoch: 8, Batch: 200, Loss: 0.708\n",
      "Epoch: 8, Batch: 300, Loss: 0.709\n",
      "Epoch: 9, Batch: 100, Loss: 0.607\n",
      "Epoch: 9, Batch: 200, Loss: 0.631\n",
      "Epoch: 9, Batch: 300, Loss: 0.637\n",
      "Epoch: 10, Batch: 100, Loss: 0.529\n",
      "Epoch: 10, Batch: 200, Loss: 0.550\n",
      "Epoch: 10, Batch: 300, Loss: 0.542\n"
     ]
    }
   ],
   "source": [
    "cls_num_list = train_set.cls_num_list\n",
    "cls_num_list = torch.tensor(cls_num_list).to(device)\n",
    "cls_num_ratio = cls_num_list / torch.sum(cls_num_list)\n",
    "log_cls_num = torch.log(cls_num_ratio)\n",
    "tau = 2\n",
    "\n",
    "losses = []\n",
    "for epoch in range(epoch_num):\n",
    "    running_loss = []\n",
    "    for i, data in enumerate(train_loader, start=0):\n",
    "        inputs, labels = data[0].to(device), data[1].to(device)\n",
    "\n",
    "        optimizer.zero_grad()  # Remember to zero the gradients every iteration\n",
    "\n",
    "        outputs = my_net(inputs)\n",
    "\n",
    "        outputs = outputs + tau * log_cls_num.unsqueeze(0)\n",
    "\n",
    "        loss = criterion(outputs, labels)\n",
    "        loss.backward()  # Backward pass\n",
    "        optimizer.step()  # Optimize\n",
    "\n",
    "        running_loss.append(loss.item())\n",
    "        if i % 100 == 99:\n",
    "            print(f\"Epoch: {epoch + 1}, Batch: {i + 1}, Loss: {sum(running_loss) / len(running_loss):.3f}\")\n",
    "            losses.append(sum(running_loss) / len(running_loss))\n",
    "            running_loss = []"
   ]
  },
  {
   "cell_type": "code",
   "execution_count": 23,
   "id": "lEO3bNoo6VKB",
   "metadata": {
    "colab": {
     "base_uri": "https://localhost:8080/",
     "height": 472
    },
    "executionInfo": {
     "elapsed": 918,
     "status": "ok",
     "timestamp": 1713690227145,
     "user": {
      "displayName": "王怡博",
      "userId": "18243970072632574540"
     },
     "user_tz": -480
    },
    "id": "lEO3bNoo6VKB",
    "outputId": "252e13ea-bdd8-4489-ba4f-1d79b201b4b8"
   },
   "outputs": [
    {
     "data": {
      "image/png": "[encoded data removed]",
      "text/plain": [
       "<Figure size 640x480 with 1 Axes>"
      ]
     },
     "metadata": {},
     "output_type": "display_data"
    }
   ],
   "source": [
    "# Observe the loss curve\n",
    "figure, ax = plt.subplots()\n",
    "ax.plot(losses)\n",
    "ax.set(xlabel='Batch', ylabel='Loss', title='Loss Curve')\n",
    "plt.show()"
   ]
  },
  {
   "cell_type": "markdown",
   "id": "4fe791f6",
   "metadata": {},
   "source": [
    "### Testing\n",
    "\n",
    "Test your model on CIFAR-10 test set."
   ]
  },
  {
   "cell_type": "code",
   "execution_count": 24,
   "id": "rYMQzBiC6XtB",
   "metadata": {
    "colab": {
     "base_uri": "https://localhost:8080/"
    },
    "executionInfo": {
     "elapsed": 1134,
     "status": "ok",
     "timestamp": 1713690228274,
     "user": {
      "displayName": "王怡博",
      "userId": "18243970072632574540"
     },
     "user_tz": -480
    },
    "id": "rYMQzBiC6XtB",
    "outputId": "c0d93d13-4eef-4a45-b96d-929d814359ff"
   },
   "outputs": [
    {
     "name": "stderr",
     "output_type": "stream",
     "text": [
      "100%|██████████| 313/313 [00:01<00:00, 191.60it/s]"
     ]
    },
    {
     "name": "stdout",
     "output_type": "stream",
     "text": [
      "Accuracy: 0.443\n"
     ]
    },
    {
     "name": "stderr",
     "output_type": "stream",
     "text": [
      "\n"
     ]
    }
   ],
   "source": [
    "# Testing\n",
    "predictions = []\n",
    "ground_truths = []\n",
    "with torch.no_grad():\n",
    "    for data in tqdm(test_loader):\n",
    "        inputs, labels = data[0].to(device), data[1].to(device)\n",
    "        outputs = my_net(inputs)\n",
    "        _, predicted = torch.max(outputs.data, 1)\n",
    "        predictions.extend(predicted.cpu().numpy())\n",
    "        ground_truths.extend(labels.cpu().numpy())\n",
    "\n",
    "accuracy = metrics.accuracy_score(ground_truths, predictions)\n",
    "print(f\"Accuracy: {accuracy:.3f}\")"
   ]
  }
 ],
 "metadata": {
  "accelerator": "GPU",
  "colab": {
   "gpuType": "T4",
   "provenance": []
  },
  "kernelspec": {
   "display_name": "Python 3 (ipykernel)",
   "language": "python",
   "name": "python3"
  },
  "language_info": {
   "codemirror_mode": {
    "name": "ipython",
    "version": 3
   },
   "file_extension": ".py",
   "mimetype": "text/x-python",
   "name": "python",
   "nbconvert_exporter": "python",
   "pygments_lexer": "ipython3",
   "version": "3.11.4"
  }
 },
 "nbformat": 4,
 "nbformat_minor": 5
}
